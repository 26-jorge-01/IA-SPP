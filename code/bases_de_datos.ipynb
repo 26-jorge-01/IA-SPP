{
 "cells": [
  {
   "cell_type": "markdown",
   "metadata": {},
   "source": [
    "# Definición de las Tablas\n",
    "\n",
    "1. Clientes\n",
    "\n",
    "* ClienteID: Identificador único para cada cliente.\n",
    "* Nombre: Nombre del cliente.\n",
    "* Email: Email del cliente.\n",
    "\n",
    "2. Productos\n",
    "\n",
    "* ProductoID: Identificador único para cada producto.\n",
    "* Nombre: Nombre del producto.\n",
    "* Precio: Precio del producto.\n",
    "\n",
    "3. Ordenes\n",
    "\n",
    "* OrdenID: Identificador único para cada orden.\n",
    "* ClienteID: Identificador del cliente que realiza la orden.\n",
    "* ProductoID: Identificador del producto pedido.\n",
    "* Cantidad: Cantidad del producto pedido."
   ]
  },
  {
   "cell_type": "code",
   "execution_count": 1,
   "metadata": {},
   "outputs": [],
   "source": [
    "class Cliente:\n",
    "    def __init__(self, cliente_id, nombre, email):\n",
    "        self.cliente_id = cliente_id\n",
    "        self.nombre = nombre\n",
    "        self.email = email\n",
    "\n",
    "class Producto:\n",
    "    def __init__(self, producto_id, nombre, precio):\n",
    "        self.producto_id = producto_id\n",
    "        self.nombre = nombre\n",
    "        self.precio = precio\n",
    "\n",
    "class Orden:\n",
    "    def __init__(self, orden_id, cliente_id, producto_id, cantidad):\n",
    "        self.orden_id = orden_id\n",
    "        self.cliente_id = cliente_id\n",
    "        self.producto_id = producto_id\n",
    "        self.cantidad = cantidad"
   ]
  },
  {
   "cell_type": "markdown",
   "metadata": {},
   "source": [
    "## Diagrama Entidad-Relación (E-R)\n",
    "\n",
    "El diagrama ER para este ejemplo incluiría las siguientes entidades y relaciones:\n",
    "\n",
    "* **Clientes** tiene una relación de uno a muchos con **Ordenes** (un cliente puede tener múltiples órdenes).\n",
    "* **Productos** tiene una relación de uno a muchos con **Ordenes** (un producto puede ser parte de múltiples órdenes).\n",
    "\n",
    "## Esquema Relacional\n",
    "\n",
    "El esquema relacional se vería así:\n",
    "\n",
    "* ```Clientes(ClienteID, Nombre, Email)```\n",
    "* ```Productos(ProductoID, Nombre, Precio)```\n",
    "* ```Ordenes(OrdenID, ClienteID, ProductoID, Cantidad)```\n",
    "\n",
    "### Relaciones:\n",
    "\n",
    "* ```Clientes.ClienteID -> Ordenes.ClienteID```\n",
    "* ```Productos.ProductoID -> Ordenes.ProductoID```"
   ]
  },
  {
   "cell_type": "code",
   "execution_count": null,
   "metadata": {},
   "outputs": [],
   "source": []
  }
 ],
 "metadata": {
  "kernelspec": {
   "display_name": "Python 3",
   "language": "python",
   "name": "python3"
  },
  "language_info": {
   "codemirror_mode": {
    "name": "ipython",
    "version": 3
   },
   "file_extension": ".py",
   "mimetype": "text/x-python",
   "name": "python",
   "nbconvert_exporter": "python",
   "pygments_lexer": "ipython3",
   "version": "3.11.9"
  }
 },
 "nbformat": 4,
 "nbformat_minor": 2
}
