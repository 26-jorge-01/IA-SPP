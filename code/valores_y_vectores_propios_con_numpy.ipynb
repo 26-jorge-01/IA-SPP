{
 "cells": [
  {
   "cell_type": "code",
   "execution_count": 1,
   "metadata": {},
   "outputs": [],
   "source": [
    "import numpy as np"
   ]
  },
  {
   "cell_type": "code",
   "execution_count": 5,
   "metadata": {},
   "outputs": [
    {
     "name": "stdout",
     "output_type": "stream",
     "text": [
      "[[ 2  1]\n",
      " [10  4]]\n"
     ]
    }
   ],
   "source": [
    "# Definir la matriz\n",
    "A = np.array([[2, 1], [10, 4]])\n",
    "\n",
    "print(A)"
   ]
  },
  {
   "cell_type": "code",
   "execution_count": 6,
   "metadata": {},
   "outputs": [
    {
     "name": "stdout",
     "output_type": "stream",
     "text": [
      "Valores propios: [-0.31662479  6.31662479]\n",
      "Vectores propios:\n",
      " [[-0.39631553 -0.22568563]\n",
      " [ 0.91811437 -0.97420018]]\n"
     ]
    }
   ],
   "source": [
    "# Calcular valores propios y vectores propios\n",
    "valores_propios, vectores_propios = np.linalg.eig(A)\n",
    "\n",
    "# Mostrar resultados\n",
    "print(\"Valores propios:\", valores_propios)\n",
    "print(\"Vectores propios:\\n\", vectores_propios)"
   ]
  },
  {
   "cell_type": "code",
   "execution_count": null,
   "metadata": {},
   "outputs": [],
   "source": []
  }
 ],
 "metadata": {
  "kernelspec": {
   "display_name": "Python 3",
   "language": "python",
   "name": "python3"
  },
  "language_info": {
   "codemirror_mode": {
    "name": "ipython",
    "version": 3
   },
   "file_extension": ".py",
   "mimetype": "text/x-python",
   "name": "python",
   "nbconvert_exporter": "python",
   "pygments_lexer": "ipython3",
   "version": "3.11.9"
  }
 },
 "nbformat": 4,
 "nbformat_minor": 2
}
