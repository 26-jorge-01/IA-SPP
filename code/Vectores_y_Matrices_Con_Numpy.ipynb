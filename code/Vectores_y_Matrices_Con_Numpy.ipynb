{
 "cells": [
  {
   "cell_type": "markdown",
   "id": "e8e36f42",
   "metadata": {},
   "source": [
    "\n",
    "# Cuadernillo de Vectores y Matrices con Numpy\n",
    "\n",
    "Este cuadernillo tiene como objetivo proporcionar una introducción práctica a la definición de vectores y matrices, operaciones básicas entre ellos, y cálculo de la magnitud de un vector usando la biblioteca Numpy.\n",
    "    "
   ]
  },
  {
   "cell_type": "code",
   "execution_count": 1,
   "id": "a8206bdb",
   "metadata": {},
   "outputs": [],
   "source": [
    "# Importar la biblioteca Numpy\n",
    "import numpy as np"
   ]
  },
  {
   "cell_type": "markdown",
   "id": "4667ce54",
   "metadata": {},
   "source": [
    "\n",
    "## Definición de Vector y Matriz\n",
    "    "
   ]
  },
  {
   "cell_type": "code",
   "execution_count": 9,
   "id": "6d734777",
   "metadata": {},
   "outputs": [
    {
     "name": "stdout",
     "output_type": "stream",
     "text": [
      "Vector: [1 2 3]\n",
      "Matriz:\n",
      " [[1 2 3]\n",
      " [4 5 6]\n",
      " [7 8 9]]\n"
     ]
    }
   ],
   "source": [
    "\n",
    "# Definición de un vector\n",
    "vector = np.array([1, 2, 3])\n",
    "print(\"Vector:\", vector)\n",
    "\n",
    "# Definición de una matriz\n",
    "matriz = np.array([[1, 2, 3], [4, 5, 6], [7, 8, 9]])\n",
    "print(\"Matriz:\\n\", matriz)\n",
    "    "
   ]
  },
  {
   "cell_type": "markdown",
   "id": "1e5c3a20",
   "metadata": {},
   "source": [
    "\n",
    "## Operaciones Básicas entre Vectores y Matrices\n",
    "    "
   ]
  },
  {
   "cell_type": "code",
   "execution_count": 10,
   "id": "12d8c0fb",
   "metadata": {},
   "outputs": [
    {
     "name": "stdout",
     "output_type": "stream",
     "text": [
      "Suma de vectores: [-3 -3 -3]\n"
     ]
    }
   ],
   "source": [
    "# Suma de vectores\n",
    "vector1 = np.array([1, 2, 3])\n",
    "vector2 = np.array([4, 5, 6])\n",
    "suma_vectores = np.subtract(vector1, vector2)\n",
    "print(\"Suma de vectores:\", suma_vectores)    "
   ]
  },
  {
   "cell_type": "code",
   "execution_count": 5,
   "id": "23f7d594",
   "metadata": {},
   "outputs": [
    {
     "name": "stdout",
     "output_type": "stream",
     "text": [
      "Producto escalar: 32\n"
     ]
    }
   ],
   "source": [
    "# Producto escalar entre vectores\n",
    "producto_escalar = np.dot(vector1, vector2)\n",
    "print(\"Producto escalar:\", producto_escalar)"
   ]
  },
  {
   "cell_type": "code",
   "execution_count": 6,
   "id": "544ecfd0",
   "metadata": {},
   "outputs": [
    {
     "name": "stdout",
     "output_type": "stream",
     "text": [
      "Producto de matrices:\n",
      " [[ 4  4]\n",
      " [10  8]]\n"
     ]
    }
   ],
   "source": [
    "# Multiplicación de matrices\n",
    "matriz1 = np.array([[1, 2], [3, 4]])\n",
    "matriz2 = np.array([[2, 0], [1, 2]])\n",
    "producto_matrices = np.dot(matriz1, matriz2)\n",
    "print(\"Producto de matrices:\\n\", producto_matrices)"
   ]
  },
  {
   "cell_type": "markdown",
   "id": "27200cb6",
   "metadata": {},
   "source": [
    "\n",
    "## Cálculo de la Magnitud de un Vector\n",
    "    "
   ]
  },
  {
   "cell_type": "code",
   "execution_count": 7,
   "id": "3043bd1c",
   "metadata": {},
   "outputs": [
    {
     "name": "stdout",
     "output_type": "stream",
     "text": [
      "Magnitud del vector: 3.7416573867739413\n"
     ]
    }
   ],
   "source": [
    "# Magnitud de un vector\n",
    "magnitud_vector = np.linalg.norm(vector1)\n",
    "print(\"Magnitud del vector:\", magnitud_vector)    "
   ]
  },
  {
   "cell_type": "markdown",
   "id": "88c9995c",
   "metadata": {},
   "source": [
    "# Funciones para creación de matrices"
   ]
  },
  {
   "cell_type": "code",
   "execution_count": 21,
   "id": "5d4d42b9",
   "metadata": {},
   "outputs": [],
   "source": [
    "a = np.zeros((2,2))  # Create an array of all zeros\n",
    "b = np.ones((5,5)) # Create an array of all ones\n",
    "c = np.full((5,5), 7) # Create a constant array\n",
    "d = np.eye(5)        # Create a 2x2 identity matrix\n",
    "e = np.random.random((5,5)) # Create an array filled with random values"
   ]
  },
  {
   "cell_type": "code",
   "execution_count": 23,
   "id": "f8684dbe",
   "metadata": {},
   "outputs": [
    {
     "data": {
      "text/plain": [
       "array([[ 2,  4],\n",
       "       [ 7, 10]])"
      ]
     },
     "execution_count": 23,
     "metadata": {},
     "output_type": "execute_result"
    }
   ],
   "source": [
    "matriz2 @ matriz1"
   ]
  },
  {
   "cell_type": "code",
   "execution_count": null,
   "id": "4bd86b44",
   "metadata": {},
   "outputs": [],
   "source": []
  }
 ],
 "metadata": {
  "kernelspec": {
   "display_name": "Python 3",
   "language": "python",
   "name": "python3"
  },
  "language_info": {
   "codemirror_mode": {
    "name": "ipython",
    "version": 3
   },
   "file_extension": ".py",
   "mimetype": "text/x-python",
   "name": "python",
   "nbconvert_exporter": "python",
   "pygments_lexer": "ipython3",
   "version": "3.11.9"
  }
 },
 "nbformat": 4,
 "nbformat_minor": 5
}
